{
 "cells": [
  {
   "cell_type": "markdown",
   "id": "47173ffc",
   "metadata": {},
   "source": [
    "# Interpreting Linear Regression Coefficients: A Baseball Example"
   ]
  },
  {
   "cell_type": "markdown",
   "id": "92e730a3",
   "metadata": {},
   "source": [
    "A virtue of linear regression models is that they're easy to understand.  The coefficients usually have a very natural interpretation.  Here I'll present what I think is a fun example where the naive way of interpreting these coefficients breaks down."
   ]
  },
  {
   "cell_type": "markdown",
   "id": "9e3f1e46",
   "metadata": {},
   "source": [
    "Let me begin with a question, which I hope you'll answer without thinking too hard about it."
   ]
  },
  {
   "cell_type": "markdown",
   "id": "f101dd10",
   "metadata": {},
   "source": [
    "Suppose we take a dataset of MLB batting statistics since from 1871-2015 and run a linear regression to predict a batter's single season RBI (Runs Batted In) using their HR, 3B, 2B, and 1B from the same season.  What, approximately, do you think each of the coefficients will be?  Write down your answer before reading further."
   ]
  },
  {
   "cell_type": "code",
   "execution_count": 38,
   "id": "23cd0b67",
   "metadata": {},
   "outputs": [],
   "source": [
    "import pandas as pd\n",
    "import numpy as np\n",
    "import matplotlib.pyplot as plt\n",
    "from sklearn.linear_model import LinearRegression"
   ]
  },
  {
   "cell_type": "code",
   "execution_count": 31,
   "id": "1f87ca7d",
   "metadata": {},
   "outputs": [],
   "source": [
    "batting = pd.read_csv('Data/Baseball/batting.csv')"
   ]
  },
  {
   "cell_type": "code",
   "execution_count": 32,
   "id": "c4df6ea4",
   "metadata": {
    "scrolled": true
   },
   "outputs": [
    {
     "data": {
      "text/html": [
       "<div>\n",
       "<style scoped>\n",
       "    .dataframe tbody tr th:only-of-type {\n",
       "        vertical-align: middle;\n",
       "    }\n",
       "\n",
       "    .dataframe tbody tr th {\n",
       "        vertical-align: top;\n",
       "    }\n",
       "\n",
       "    .dataframe thead th {\n",
       "        text-align: right;\n",
       "    }\n",
       "</style>\n",
       "<table border=\"1\" class=\"dataframe\">\n",
       "  <thead>\n",
       "    <tr style=\"text-align: right;\">\n",
       "      <th></th>\n",
       "      <th>playerID</th>\n",
       "      <th>yearID</th>\n",
       "      <th>stint</th>\n",
       "      <th>teamID</th>\n",
       "      <th>lgID</th>\n",
       "      <th>G</th>\n",
       "      <th>AB</th>\n",
       "      <th>R</th>\n",
       "      <th>H</th>\n",
       "      <th>2B</th>\n",
       "      <th>...</th>\n",
       "      <th>RBI</th>\n",
       "      <th>SB</th>\n",
       "      <th>CS</th>\n",
       "      <th>BB</th>\n",
       "      <th>SO</th>\n",
       "      <th>IBB</th>\n",
       "      <th>HBP</th>\n",
       "      <th>SH</th>\n",
       "      <th>SF</th>\n",
       "      <th>GIDP</th>\n",
       "    </tr>\n",
       "  </thead>\n",
       "  <tbody>\n",
       "    <tr>\n",
       "      <th>0</th>\n",
       "      <td>abercda01</td>\n",
       "      <td>1871</td>\n",
       "      <td>1</td>\n",
       "      <td>TRO</td>\n",
       "      <td>NaN</td>\n",
       "      <td>1</td>\n",
       "      <td>4.0</td>\n",
       "      <td>0.0</td>\n",
       "      <td>0.0</td>\n",
       "      <td>0.0</td>\n",
       "      <td>...</td>\n",
       "      <td>0.0</td>\n",
       "      <td>0.0</td>\n",
       "      <td>0.0</td>\n",
       "      <td>0.0</td>\n",
       "      <td>0.0</td>\n",
       "      <td>NaN</td>\n",
       "      <td>NaN</td>\n",
       "      <td>NaN</td>\n",
       "      <td>NaN</td>\n",
       "      <td>NaN</td>\n",
       "    </tr>\n",
       "    <tr>\n",
       "      <th>1</th>\n",
       "      <td>addybo01</td>\n",
       "      <td>1871</td>\n",
       "      <td>1</td>\n",
       "      <td>RC1</td>\n",
       "      <td>NaN</td>\n",
       "      <td>25</td>\n",
       "      <td>118.0</td>\n",
       "      <td>30.0</td>\n",
       "      <td>32.0</td>\n",
       "      <td>6.0</td>\n",
       "      <td>...</td>\n",
       "      <td>13.0</td>\n",
       "      <td>8.0</td>\n",
       "      <td>1.0</td>\n",
       "      <td>4.0</td>\n",
       "      <td>0.0</td>\n",
       "      <td>NaN</td>\n",
       "      <td>NaN</td>\n",
       "      <td>NaN</td>\n",
       "      <td>NaN</td>\n",
       "      <td>NaN</td>\n",
       "    </tr>\n",
       "    <tr>\n",
       "      <th>2</th>\n",
       "      <td>allisar01</td>\n",
       "      <td>1871</td>\n",
       "      <td>1</td>\n",
       "      <td>CL1</td>\n",
       "      <td>NaN</td>\n",
       "      <td>29</td>\n",
       "      <td>137.0</td>\n",
       "      <td>28.0</td>\n",
       "      <td>40.0</td>\n",
       "      <td>4.0</td>\n",
       "      <td>...</td>\n",
       "      <td>19.0</td>\n",
       "      <td>3.0</td>\n",
       "      <td>1.0</td>\n",
       "      <td>2.0</td>\n",
       "      <td>5.0</td>\n",
       "      <td>NaN</td>\n",
       "      <td>NaN</td>\n",
       "      <td>NaN</td>\n",
       "      <td>NaN</td>\n",
       "      <td>NaN</td>\n",
       "    </tr>\n",
       "    <tr>\n",
       "      <th>3</th>\n",
       "      <td>allisdo01</td>\n",
       "      <td>1871</td>\n",
       "      <td>1</td>\n",
       "      <td>WS3</td>\n",
       "      <td>NaN</td>\n",
       "      <td>27</td>\n",
       "      <td>133.0</td>\n",
       "      <td>28.0</td>\n",
       "      <td>44.0</td>\n",
       "      <td>10.0</td>\n",
       "      <td>...</td>\n",
       "      <td>27.0</td>\n",
       "      <td>1.0</td>\n",
       "      <td>1.0</td>\n",
       "      <td>0.0</td>\n",
       "      <td>2.0</td>\n",
       "      <td>NaN</td>\n",
       "      <td>NaN</td>\n",
       "      <td>NaN</td>\n",
       "      <td>NaN</td>\n",
       "      <td>NaN</td>\n",
       "    </tr>\n",
       "    <tr>\n",
       "      <th>4</th>\n",
       "      <td>ansonca01</td>\n",
       "      <td>1871</td>\n",
       "      <td>1</td>\n",
       "      <td>RC1</td>\n",
       "      <td>NaN</td>\n",
       "      <td>25</td>\n",
       "      <td>120.0</td>\n",
       "      <td>29.0</td>\n",
       "      <td>39.0</td>\n",
       "      <td>11.0</td>\n",
       "      <td>...</td>\n",
       "      <td>16.0</td>\n",
       "      <td>6.0</td>\n",
       "      <td>2.0</td>\n",
       "      <td>2.0</td>\n",
       "      <td>1.0</td>\n",
       "      <td>NaN</td>\n",
       "      <td>NaN</td>\n",
       "      <td>NaN</td>\n",
       "      <td>NaN</td>\n",
       "      <td>NaN</td>\n",
       "    </tr>\n",
       "  </tbody>\n",
       "</table>\n",
       "<p>5 rows × 22 columns</p>\n",
       "</div>"
      ],
      "text/plain": [
       "    playerID  yearID  stint teamID lgID   G     AB     R     H    2B  ...  \\\n",
       "0  abercda01    1871      1    TRO  NaN   1    4.0   0.0   0.0   0.0  ...   \n",
       "1   addybo01    1871      1    RC1  NaN  25  118.0  30.0  32.0   6.0  ...   \n",
       "2  allisar01    1871      1    CL1  NaN  29  137.0  28.0  40.0   4.0  ...   \n",
       "3  allisdo01    1871      1    WS3  NaN  27  133.0  28.0  44.0  10.0  ...   \n",
       "4  ansonca01    1871      1    RC1  NaN  25  120.0  29.0  39.0  11.0  ...   \n",
       "\n",
       "    RBI   SB   CS   BB   SO  IBB  HBP  SH  SF  GIDP  \n",
       "0   0.0  0.0  0.0  0.0  0.0  NaN  NaN NaN NaN   NaN  \n",
       "1  13.0  8.0  1.0  4.0  0.0  NaN  NaN NaN NaN   NaN  \n",
       "2  19.0  3.0  1.0  2.0  5.0  NaN  NaN NaN NaN   NaN  \n",
       "3  27.0  1.0  1.0  0.0  2.0  NaN  NaN NaN NaN   NaN  \n",
       "4  16.0  6.0  2.0  2.0  1.0  NaN  NaN NaN NaN   NaN  \n",
       "\n",
       "[5 rows x 22 columns]"
      ]
     },
     "execution_count": 32,
     "metadata": {},
     "output_type": "execute_result"
    }
   ],
   "source": [
    "batting.head()"
   ]
  },
  {
   "cell_type": "code",
   "execution_count": 33,
   "id": "a3acd780",
   "metadata": {},
   "outputs": [],
   "source": [
    "#Singles are not directly stored in the dataframe, so we make a 1B column ourselves.\n",
    "batting['1B'] = batting['H'] - batting['2B'] - batting['3B'] - batting['HR']"
   ]
  },
  {
   "cell_type": "code",
   "execution_count": 34,
   "id": "280d42c0",
   "metadata": {},
   "outputs": [
    {
     "data": {
      "text/plain": [
       "(array([ 1.92621606, -0.06588546,  0.5500652 ,  0.24537098]),\n",
       " 0.19762859830731827,\n",
       " 0.9661682587964813)"
      ]
     },
     "execution_count": 34,
     "metadata": {},
     "output_type": "execute_result"
    }
   ],
   "source": [
    "batting.dropna(inplace=True)\n",
    "X= np.array(batting[['HR', '3B', '2B', '1B']])\n",
    "y= np.array(batting['RBI'])\n",
    "reg = LinearRegression().fit(X,y)\n",
    "reg.coef_, reg.intercept_, reg.score(X,y)"
   ]
  },
  {
   "cell_type": "markdown",
   "id": "ac2a60c3",
   "metadata": {},
   "source": [
    "So the best linear model for RBI using HR, 3B, 2B, 1B as predictors is:"
   ]
  },
  {
   "cell_type": "markdown",
   "id": "f50c1e39",
   "metadata": {},
   "source": [
    "### RBI ~ 1.93 \\* HR - 0.07 \\* 3B + 0.55 \\* 2B + 0.25 \\* 1B + 0.20"
   ]
  },
  {
   "cell_type": "markdown",
   "id": "47dd97c3",
   "metadata": {},
   "source": [
    "That's right -- the coefficient for triples (3B) is negative!"
   ]
  },
  {
   "cell_type": "markdown",
   "id": "e71f1f21",
   "metadata": {},
   "source": [
    "And what's more, the fit is quite good, as the R^2 = 0.97 and the below plot of RBI vs. Predicted RBI show."
   ]
  },
  {
   "cell_type": "code",
   "execution_count": 37,
   "id": "5eec032a",
   "metadata": {},
   "outputs": [],
   "source": [
    "batting['pred_RBI'] = reg.predict(X)"
   ]
  },
  {
   "cell_type": "code",
   "execution_count": 48,
   "id": "1b9bc149",
   "metadata": {},
   "outputs": [
    {
     "data": {
      "image/png": "[encoded data removed]",
      "text/plain": [
       "<Figure size 640x480 with 1 Axes>"
      ]
     },
     "metadata": {},
     "output_type": "display_data"
    }
   ],
   "source": [
    "plt.scatter(batting['pred_RBI'], batting['RBI'], s=1)\n",
    "plt.xlabel('Predicted RBI')\n",
    "plt.ylabel('RBI')\n",
    "plt.title('RBI vs. Predicted RBI')\n",
    "plt.show()"
   ]
  },
  {
   "cell_type": "markdown",
   "id": "490adeb4",
   "metadata": {},
   "source": [
    "So what's going on here?  I think a naive interpretation of the coefficients in this situation would be that they represent the average number of runs scored on the play when a batter gets the corresponding hit.  E.g. if you think there is an average of 0.93 men on base when a home run is hit, you would guess 1.93 as the coefficient of HR (the batter also scores on a home run!). I suspect this reasoning is not too far off in the cases of HR, 2B, and 1B. (It would be interesting to check exactly how many runs are scored on each of these hits on average.)  But clearly this story doesn't work for the coefficient of 3B."
   ]
  },
  {
   "cell_type": "markdown",
   "id": "c6be8693",
   "metadata": {},
   "source": [
    "The problem here is that this interpretation makes the assumption that a batter's HR, 3B, 2B, and 1B are independent of any confounding variables, whereas there seem to be a couple of significant confounders in the case of triples.  A player who hits a lot of triples is, on average, a fast runner and the kind of player who might hit 1st, 8th, or 9th in the lineup -- so they have fewer men on base when they come to bat, meaning the hits they get are less RBI-rich on average.  Secondly, a speedy high-3B player is also more likely to be valued for their versatility, fielding, and ability to steal bases.  None of these skills is related in a direct way with getting hits, and so I suspect they mostly negatively correlate with hits. (If a position player had **none** of these skills, they wouldn't be in MLB!)"
   ]
  },
  {
   "cell_type": "markdown",
   "id": "f9fd2bb4",
   "metadata": {},
   "source": [
    "In summary, if a player gets a lot of triples, on the one hand, they get a certain number of RBI directly from those hits. On the other hand, they are possibly more likely to be the type of player who contributes in ways other than getting hits; moreover, they are less likely to bat in the middle of the order, so the hits they do get are expected to be less RBI-rich. Based on both the data and my baseball knowledge, I don't think there are similar confounders for HR, 2B, or 1B."
   ]
  }
 ],
 "metadata": {
  "kernelspec": {
   "display_name": "Python 3 (ipykernel)",
   "language": "python",
   "name": "python3"
  },
  "language_info": {
   "codemirror_mode": {
    "name": "ipython",
    "version": 3
   },
   "file_extension": ".py",
   "mimetype": "text/x-python",
   "name": "python",
   "nbconvert_exporter": "python",
   "pygments_lexer": "ipython3",
   "version": "3.9.6"
  }
 },
 "nbformat": 4,
 "nbformat_minor": 5
}
