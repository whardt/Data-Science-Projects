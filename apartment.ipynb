{
 "cells": [
  {
   "cell_type": "code",
   "execution_count": null,
   "metadata": {},
   "outputs": [],
   "source": [
    "#import standard libraries\n",
    "import pandas as pd\n",
    "import numpy as np\n",
    "import matplotlib.pyplot as plt\n",
    "import seaborn as sns\n",
    "\n",
    "#web scraping with XPath and Selenium\n",
    "import selenium \n",
    "from selenium import webdriver\n",
    "from selenium.webdriver.common.keys import Keys\n",
    "from selenium.webdriver.common.by import By\n",
    "from selenium.webdriver.support.ui import WebDriverWait\n",
    "from selenium.webdriver.support import expected_conditions as EC\n",
    "from selenium.webdriver.chrome.options import Options\n",
    "import time\n",
    "\n",
    "\n",
    "#scrape from url \n",
    "url = #[url of apartment website]\n",
    "chrome_options = Options()\n",
    "chrome_options.add_argument(\"--headless\")\n",
    "driver = webdriver.Chrome(options=chrome_options)\n",
    "driver.get(url)\n",
    "\n",
    "#will send a text to [my phone number] using twilio if an apartment I want is available\n",
    "from twilio.rest import Client\n",
    "twilio_account_sid = #[my twilio account sid]\n",
    "twilio_auth_token = #[my twilio auth token]\n",
    "twilio_phone_sender = #[my twilio phone number]\n",
    "twilio_phone_recipient = #[my personal phone number]\n",
    "\n",
    "def send_text_alert(alert_str):\n",
    "    client = Client(twilio_account_sid, twilio_auth_token)\n",
    "    client.messages.create(to=twilio_phone_recipient, \n",
    "    from_=twilio_phone_sender, body=alert_str)\n",
    "\n"
   ]
  },
  {
   "cell_type": "code",
   "execution_count": null,
   "metadata": {},
   "outputs": [],
   "source": [
    "apts = [102, 210, 211, 215, 217, 311, 313, 315, 317] #list of apartments I want to check\n",
    "\n",
    "#The xpaths of the cells in the table which says whether or not each apartment is available are extremely similar; they just differ by a single number in the middle of the xpath.\n",
    "xpath_nums = {102: 3, 210: 15, 211: 16, 215: 18, 217: 19, 311: 28, 313: 29, 315: 30, 317: 31} #list of xpath numbers for each apartment\n",
    "xpaths = {}\n",
    "for num in xpath_nums.keys():\n",
    "    xpaths[num] = f'//*[@id=\"block-views-our-apartments-block-1\"]/div/div/div[2]/div[2]/div/ul/li[{xpath_nums[num]}]/div/span/div[5]/a/span[1]'\n",
    "\n",
    "\n",
    "#given an apartment number, check_apt will check if it is available and send a text if it is\n",
    "def check_apt(apt):\n",
    "    element = WebDriverWait(driver, 1).until(EC.presence_of_element_located((By.XPATH, xpaths[apt])))\n",
    "    if element.text != 'RENTED':\n",
    "        body = \"Apt. \" + str(apt) + \" is available!\"\n",
    "        send_text_alert(body)\n",
    "        return True\n",
    "    else:\n",
    "        return False"
   ]
  },
  {
   "cell_type": "code",
   "execution_count": null,
   "metadata": {},
   "outputs": [],
   "source": [
    "import logging\n",
    "import os\n",
    "import time\n",
    "DELAY_TIME = 600 #seconds"
   ]
  },
  {
   "cell_type": "code",
   "execution_count": null,
   "metadata": {},
   "outputs": [],
   "source": [
    "#maintains a log of whether or not each apartment is available every 10 minutes\n",
    "log = logging.getLogger(__name__)\n",
    "logging.basicConfig(level=os.environ.get(\"LOGLEVEL\", \"INFO\"), format='%(asctime)s %(message)s')\n",
    "log.info(\"Apt Monitor\")\n",
    "while True:\n",
    "    url = #[url of apartment website]\n",
    "    chrome_options = Options()\n",
    "    chrome_options.add_argument(\"--headless\")\n",
    "    driver = webdriver.Chrome(options=chrome_options)\n",
    "    driver.get(url)\n",
    "    try: \n",
    "        for apt in apts:\n",
    "            if check_apt(apt):\n",
    "                log.info(\"Apt. \" + str(apt) + \" is available!\")\n",
    "            else:\n",
    "                log.info(\"Apt. \" + str(apt) + \" is not available.\")\n",
    "    except:\n",
    "        log.info(\"Error checking website\")\n",
    "    driver.quit()\n",
    "    time.sleep(DELAY_TIME)"
   ]
  }
 ],
 "metadata": {
  "kernelspec": {
   "display_name": "Python 3.9.6 64-bit",
   "language": "python",
   "name": "python3"
  },
  "language_info": {
   "codemirror_mode": {
    "name": "ipython",
    "version": 3
   },
   "file_extension": ".py",
   "mimetype": "text/x-python",
   "name": "python",
   "nbconvert_exporter": "python",
   "pygments_lexer": "ipython3",
   "version": "3.9.6"
  },
  "orig_nbformat": 4,
  "vscode": {
   "interpreter": {
    "hash": "5edc29c2ed010d6458d71a83433b383a96a8cbd3efe8531bc90c4b8a5b8bcec9"
   }
  }
 },
 "nbformat": 4,
 "nbformat_minor": 2
}
